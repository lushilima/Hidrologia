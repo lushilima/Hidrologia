{
  "nbformat": 4,
  "nbformat_minor": 0,
  "metadata": {
    "colab": {
      "provenance": [],
      "authorship_tag": "ABX9TyMq5SNB/PMzV71Crx7uEN/N",
      "include_colab_link": true
    },
    "kernelspec": {
      "name": "python3",
      "display_name": "Python 3"
    },
    "language_info": {
      "name": "python"
    }
  },
  "cells": [
    {
      "cell_type": "markdown",
      "metadata": {
        "id": "view-in-github",
        "colab_type": "text"
      },
      "source": [
        "<a href=\"https://colab.research.google.com/github/lushilima/Hidrologia/blob/main/evapotranspiracao.ipynb\" target=\"_parent\"><img src=\"https://colab.research.google.com/assets/colab-badge.svg\" alt=\"Open In Colab\"/></a>"
      ]
    },
    {
      "cell_type": "code",
      "execution_count": null,
      "metadata": {
        "colab": {
          "base_uri": "https://localhost:8080/"
        },
        "id": "5AVpEF8y8Ioq",
        "outputId": "2ff81e36-a04b-4ec2-992a-66296694ec17"
      },
      "outputs": [
        {
          "output_type": "stream",
          "name": "stdout",
          "text": [
            "Evapotranspiração de referência (ETo) estimada: 2.87 mm/dia\n"
          ]
        }
      ],
      "source": [
        "import numpy as np\n",
        "\n",
        "# Dados para 15/02/2025\n",
        "Tmax = 27.7  # °C\n",
        "Tmin = 21.2  # °C\n",
        "RHmax = 81.5  # %\n",
        "RHmin = 81.5  # %\n",
        "u2 = 3.3      # m/s\n",
        "z = 2         # m\n",
        "Rs_cal = 234  # Radiação solar (cal·cm⁻²·dia⁻¹)\n",
        "\n",
        "# Conversão para MJ/m²/dia\n",
        "Rs = Rs_cal * 0.041868\n",
        "\n",
        "# Constantes\n",
        "G = 0  # MJ/m²/dia (diário)\n",
        "\n",
        "# Temperatura média\n",
        "T = (Tmax + Tmin) / 2\n",
        "\n",
        "# Função pressão de saturação do vapor\n",
        "def es(T):\n",
        "    return 0.6108 * np.exp((17.27 * T) / (T + 237.3))\n",
        "\n",
        "es_Tmax = es(Tmax)\n",
        "es_Tmin = es(Tmin)\n",
        "es_mean = (es_Tmax + es_Tmin) / 2\n",
        "\n",
        "# Pressão real do vapor\n",
        "ea = (es_Tmin * RHmax/100 + es_Tmax * RHmin/100) / 2\n",
        "\n",
        "# Inclinação da curva (Delta)\n",
        "delta = (4098 * (0.6108 * np.exp((17.27 * T)/(T + 237.3)))) / ((T + 237.3)**2)\n",
        "\n",
        "# Pressão atmosférica\n",
        "P = 101.3 * ((293 - 0.0065 * z) / 293) ** 5.26\n",
        "\n",
        "# Constante psicrométrica\n",
        "gamma = 0.000665 * P\n",
        "\n",
        "# Radiação líquida simplificada\n",
        "Rn = 0.75 * Rs\n",
        "\n",
        "# Penman-Monteith\n",
        "numerador = 0.408 * delta * (Rn - G) + gamma * (900 / (T + 273)) * u2 * (es_mean - ea)\n",
        "denominador = delta + gamma * (1 + 0.34 * u2)\n",
        "ETo = numerador / denominador\n",
        "\n",
        "print(f\"Evapotranspiração de referência (ETo) estimada: {ETo:.2f} mm/dia\")\n",
        "\n"
      ]
    }
  ]
}